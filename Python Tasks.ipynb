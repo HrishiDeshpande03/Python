{
 "cells": [
  {
   "cell_type": "code",
   "execution_count": 3,
   "metadata": {},
   "outputs": [
    {
     "name": "stdout",
     "output_type": "stream",
     "text": [
      "True\n"
     ]
    }
   ],
   "source": [
    "# Task1)  go through some of the other in built functions\n",
    "\n",
    "# 1. isnumeric()    # returns true if all the values are numeric\n",
    "\n",
    "a = \"123456\"\n",
    "x = a.isnumeric()\n",
    "print(x)"
   ]
  },
  {
   "cell_type": "code",
   "execution_count": 4,
   "metadata": {},
   "outputs": [
    {
     "name": "stdout",
     "output_type": "stream",
     "text": [
      "I like to play Tennis\n"
     ]
    }
   ],
   "source": [
    "#2.replace()        #Returns a string where a specified value is replaced with a specified value\n",
    "\n",
    "a = \"I like to play Cricket\"\n",
    "x = a.replace(\"Cricket\",\"Tennis\")\n",
    "print(x)"
   ]
  },
  {
   "cell_type": "code",
   "execution_count": 6,
   "metadata": {},
   "outputs": [
    {
     "name": "stdout",
     "output_type": "stream",
     "text": [
      "My Country Is India\n"
     ]
    }
   ],
   "source": [
    "#3.title()          #Converts the first character of each word to upper case\n",
    "\n",
    "a = \"my country is india\"\n",
    "x = a.title()\n",
    "print(x)"
   ]
  },
  {
   "cell_type": "code",
   "execution_count": 11,
   "metadata": {},
   "outputs": [
    {
     "name": "stdout",
     "output_type": "stream",
     "text": [
      "['mercedes', 'maserati', 'bmw', 'range rover']\n"
     ]
    }
   ],
   "source": [
    "#4.append()         #adds an element at the end of the list\n",
    "\n",
    "b = ['mercedes','maserati','bmw']\n",
    "b.append('range rover')\n",
    "print(b)"
   ]
  },
  {
   "cell_type": "code",
   "execution_count": 18,
   "metadata": {},
   "outputs": [
    {
     "name": "stdout",
     "output_type": "stream",
     "text": [
      "['apple', 'orange', 'banana', 'cherry']\n"
     ]
    }
   ],
   "source": [
    "#5.insert()        #Adds an element at the specified position\n",
    "\n",
    "p = ['apple','banana','cherry']\n",
    "p.insert(1, \"orange\")\n",
    "print(p)"
   ]
  },
  {
   "cell_type": "code",
   "execution_count": 20,
   "metadata": {
    "scrolled": true
   },
   "outputs": [
    {
     "name": "stdout",
     "output_type": "stream",
     "text": [
      "['a', 'b', 'c', 'd', 'e', 'f']\n"
     ]
    }
   ],
   "source": [
    "#6.sort()         #sorts the list in alphabetical order\n",
    "\n",
    "a = ['a','b','d','c','f','e']\n",
    "a.sort()\n",
    "print(a)"
   ]
  },
  {
   "cell_type": "code",
   "execution_count": null,
   "metadata": {},
   "outputs": [],
   "source": []
  },
  {
   "cell_type": "code",
   "execution_count": null,
   "metadata": {},
   "outputs": [],
   "source": [
    "#task 2) \n",
    "# given a string for example\n",
    "str1 = \"Welcome to python\"\n",
    "\n",
    "# check if \"to\" is present in \"welcome to python\""
   ]
  },
  {
   "cell_type": "code",
   "execution_count": 23,
   "metadata": {},
   "outputs": [
    {
     "data": {
      "text/plain": [
       "'to '"
      ]
     },
     "execution_count": 23,
     "metadata": {},
     "output_type": "execute_result"
    }
   ],
   "source": [
    "str1 = \"Welcome to python\"\n",
    "str1[8:11:1]                 # YES, 'to' is present in \"Welcome to python\" by using \"SLICING\""
   ]
  },
  {
   "cell_type": "code",
   "execution_count": null,
   "metadata": {},
   "outputs": [],
   "source": [
    "#OR (IF-ELSE method)"
   ]
  },
  {
   "cell_type": "code",
   "execution_count": 27,
   "metadata": {},
   "outputs": [
    {
     "name": "stdout",
     "output_type": "stream",
     "text": [
      "Substring-'to'is present\n"
     ]
    }
   ],
   "source": [
    "str1 = \"Welcome to python\"\n",
    "str2 = \"to\"\n",
    "if(str2 in str1):\n",
    "    print(\"Substring-'to'is present\")\n",
    "else:\n",
    "    print(\"Substring-'to'is not present\")\n"
   ]
  },
  {
   "cell_type": "code",
   "execution_count": null,
   "metadata": {},
   "outputs": [],
   "source": []
  },
  {
   "cell_type": "code",
   "execution_count": 35,
   "metadata": {},
   "outputs": [
    {
     "name": "stdout",
     "output_type": "stream",
     "text": [
      "['hii', 1, 3, 5, 8, 9]\n"
     ]
    }
   ],
   "source": [
    "#task 3.1)\n",
    "#remove()\n",
    "\n",
    "a = ['hii',1,3,5,'hello',8,9]\n",
    "a.remove('hello')\n",
    "print(a)"
   ]
  },
  {
   "cell_type": "code",
   "execution_count": 38,
   "metadata": {},
   "outputs": [
    {
     "name": "stdout",
     "output_type": "stream",
     "text": [
      "3\n"
     ]
    }
   ],
   "source": [
    "#count\n",
    "\n",
    "a = [1,2,3,2,'hello','India',2,10]\n",
    "x = a.count(2)\n",
    "print(x)"
   ]
  },
  {
   "cell_type": "code",
   "execution_count": 39,
   "metadata": {},
   "outputs": [
    {
     "data": {
      "text/plain": [
       "[]"
      ]
     },
     "execution_count": 39,
     "metadata": {},
     "output_type": "execute_result"
    }
   ],
   "source": [
    "#clear\n",
    "\n",
    "b = ['apple','banana',1,4,6,7,9]\n",
    "b.clear()\n",
    "b"
   ]
  },
  {
   "cell_type": "code",
   "execution_count": 41,
   "metadata": {},
   "outputs": [
    {
     "name": "stdout",
     "output_type": "stream",
     "text": [
      "[1, 2, 3, 4, 5, 6, 7, 8, 9, 10]\n"
     ]
    }
   ],
   "source": [
    "#sort\n",
    "\n",
    "c = [4,5,2,7,9,1,3,6,10,8]\n",
    "c.sort()\n",
    "print(c)"
   ]
  },
  {
   "cell_type": "code",
   "execution_count": 43,
   "metadata": {},
   "outputs": [
    {
     "data": {
      "text/plain": [
       "['hello', 80, 70, 60, 50, 40]"
      ]
     },
     "execution_count": 43,
     "metadata": {},
     "output_type": "execute_result"
    }
   ],
   "source": [
    "#reverse\n",
    "\n",
    "x = [40,50,60,70,80,'hello']\n",
    "x.reverse()\n",
    "x"
   ]
  },
  {
   "cell_type": "code",
   "execution_count": 53,
   "metadata": {},
   "outputs": [
    {
     "name": "stdout",
     "output_type": "stream",
     "text": [
      "[3, 5, 7, 9]\n"
     ]
    }
   ],
   "source": [
    "#task 3.2)\n",
    "# create a list of lenght = 10 and access 5th to 8th data.\n",
    "\n",
    "a = ['fan','AC','fridge','machine',3,5,7,9,'aaa','bbb','ccc','ddd','eee']\n",
    "x = a[4:8:1]\n",
    "print(x)"
   ]
  },
  {
   "cell_type": "code",
   "execution_count": 123,
   "metadata": {},
   "outputs": [
    {
     "name": "stdout",
     "output_type": "stream",
     "text": [
      "[10, 20, [30, 40, [50, 60, 70], 80], 90, 100]\n"
     ]
    }
   ],
   "source": [
    "# task4)\n",
    "#Add item 70 after 60 in the following Python List\n",
    "\n",
    "l1 = [10, 20, [30, 40, [50, 60], 80], 90, 100]\n",
    "l1[2][2].insert(2, 70)\n",
    "print(l1)"
   ]
  },
  {
   "cell_type": "code",
   "execution_count": 129,
   "metadata": {},
   "outputs": [
    {
     "name": "stdout",
     "output_type": "stream",
     "text": [
      "[1, 2, [3, 4, 5, 6, [7, 8]], 9]\n"
     ]
    }
   ],
   "source": [
    "#add sublist [7,8] after 6\n",
    "\n",
    "l2 = [1,2,[3,4,5,6],9]\n",
    "l2[2].insert(4, [7,8])\n",
    "print(l2)"
   ]
  },
  {
   "cell_type": "code",
   "execution_count": 131,
   "metadata": {},
   "outputs": [],
   "source": [
    "# task5)\n",
    "\n",
    "dict1 = { \n",
    "   \"april_batch\":{ \n",
    "      \"student\":{ \n",
    "         \"name\":\"Mike\",\n",
    "         \"marks\":{ \n",
    "            \"python\":80,\n",
    "            \"maths\":70\n",
    "         }\n",
    "      }\n",
    "   }\n",
    "}\n",
    "\n",
    "#From the above dictionary, do the following tasks\n",
    "\n",
    "#access \"Mike\"\n",
    "#access 80\n",
    "#change \"Mike\" to \"Your name\"\n",
    "#add ML = 80 and DL = 80 inside marks"
   ]
  },
  {
   "cell_type": "code",
   "execution_count": 132,
   "metadata": {},
   "outputs": [
    {
     "data": {
      "text/plain": [
       "'Mike'"
      ]
     },
     "execution_count": 132,
     "metadata": {},
     "output_type": "execute_result"
    }
   ],
   "source": [
    "#access \"Mike\"\n",
    "dict1[\"april_batch\"][\"student\"][\"name\"]"
   ]
  },
  {
   "cell_type": "code",
   "execution_count": 135,
   "metadata": {},
   "outputs": [
    {
     "data": {
      "text/plain": [
       "80"
      ]
     },
     "execution_count": 135,
     "metadata": {},
     "output_type": "execute_result"
    }
   ],
   "source": [
    "#access 80\n",
    "dict1[\"april_batch\"][\"student\"][\"marks\"][\"python\"]"
   ]
  },
  {
   "cell_type": "code",
   "execution_count": 137,
   "metadata": {},
   "outputs": [
    {
     "name": "stdout",
     "output_type": "stream",
     "text": [
      "{'april_batch': {'student': {'name': 'hrishikesh', 'marks': {'python': 80, 'maths': 70}}}}\n"
     ]
    }
   ],
   "source": [
    "#change \"Mike\" to \"Your name\"\n",
    "\n",
    "dict1 = { \n",
    "   \"april_batch\":{ \n",
    "      \"student\":{ \n",
    "         \"name\":\"Mike\",\n",
    "         \"marks\":{ \n",
    "            \"python\":80,\n",
    "            \"maths\":70\n",
    "         }\n",
    "      }\n",
    "   }\n",
    "}\n",
    "dict1[\"april_batch\"][\"student\"][\"name\"] = \"hrishikesh\"\n",
    "x = dict1\n",
    "print(x)"
   ]
  },
  {
   "cell_type": "code",
   "execution_count": 143,
   "metadata": {},
   "outputs": [
    {
     "name": "stdout",
     "output_type": "stream",
     "text": [
      "{'april_batch': {'student': {'name': 'hrishikesh', 'marks': {'python': 80, 'maths': 70, 'ML': 80, 'DL': 80}}}}\n"
     ]
    }
   ],
   "source": [
    "#add ML = 80 and DL = 80 inside marks\n",
    "\n",
    "dict1[\"april_batch\"][\"student\"][\"marks\"][\"ML\"] = 80\n",
    "print(dict1)"
   ]
  },
  {
   "cell_type": "code",
   "execution_count": 140,
   "metadata": {},
   "outputs": [
    {
     "name": "stdout",
     "output_type": "stream",
     "text": [
      "{'april_batch': {'student': {'name': 'hrishikesh', 'marks': {'python': 80, 'maths': 70, 'ML': 80, 'DL': 80}}}}\n"
     ]
    }
   ],
   "source": [
    "dict1[\"april_batch\"][\"student\"][\"marks\"][\"DL\"] = 80\n",
    "print(dict1)"
   ]
  },
  {
   "cell_type": "code",
   "execution_count": 147,
   "metadata": {},
   "outputs": [
    {
     "data": {
      "text/plain": [
       "tuple"
      ]
     },
     "execution_count": 147,
     "metadata": {},
     "output_type": "execute_result"
    }
   ],
   "source": [
    "# task6)\n",
    "#Add and remove the elements from a tuple\n",
    "\n",
    "a = (1,2,\"hello\",'hii','apple',5.5,\"true\")\n",
    "type(a)"
   ]
  },
  {
   "cell_type": "code",
   "execution_count": 154,
   "metadata": {},
   "outputs": [
    {
     "name": "stdout",
     "output_type": "stream",
     "text": [
      "[1, 2, 'hello', 'hii', 'apple', 5.5, 'true']\n"
     ]
    }
   ],
   "source": [
    "b = list(a)          #convert tuple into list to modify, remove and add the values\n",
    "print(b)"
   ]
  },
  {
   "cell_type": "code",
   "execution_count": 155,
   "metadata": {
    "scrolled": false
   },
   "outputs": [
    {
     "name": "stdout",
     "output_type": "stream",
     "text": [
      "[1, 2, 'hello', 'hii', 'apple', 5.5, 'true', 'India']\n"
     ]
    }
   ],
   "source": [
    "b.insert(7,\"India\")\n",
    "print(b)"
   ]
  },
  {
   "cell_type": "code",
   "execution_count": 157,
   "metadata": {},
   "outputs": [
    {
     "name": "stdout",
     "output_type": "stream",
     "text": [
      "(1, 2, 'hello', 'hii', 'apple', 5.5, 'true', 'India')\n"
     ]
    }
   ],
   "source": [
    "a = tuple(b)       # Added value to tuple \n",
    "print(a)"
   ]
  },
  {
   "cell_type": "code",
   "execution_count": 161,
   "metadata": {},
   "outputs": [
    {
     "name": "stdout",
     "output_type": "stream",
     "text": [
      "[1, 2, 'hello', 'hii', 'apple', 5.5, 'true', 'India']\n"
     ]
    }
   ],
   "source": [
    "c = list(a)          #convert tuple into list to modify, remove and add the values\n",
    "print(c)"
   ]
  },
  {
   "cell_type": "code",
   "execution_count": 162,
   "metadata": {},
   "outputs": [
    {
     "name": "stdout",
     "output_type": "stream",
     "text": [
      "[1, 2, 'hello', 'hii', 'apple', 5.5, 'true']\n"
     ]
    }
   ],
   "source": [
    "c.remove(\"India\")\n",
    "print(c)"
   ]
  },
  {
   "cell_type": "code",
   "execution_count": 163,
   "metadata": {},
   "outputs": [
    {
     "name": "stdout",
     "output_type": "stream",
     "text": [
      "(1, 2, 'hello', 'hii', 'apple', 5.5, 'true')\n"
     ]
    }
   ],
   "source": [
    "a = tuple(c)        # Removed value from tuple\n",
    "print(a)"
   ]
  },
  {
   "cell_type": "code",
   "execution_count": null,
   "metadata": {},
   "outputs": [],
   "source": []
  },
  {
   "cell_type": "code",
   "execution_count": null,
   "metadata": {},
   "outputs": [],
   "source": []
  },
  {
   "cell_type": "code",
   "execution_count": null,
   "metadata": {},
   "outputs": [],
   "source": []
  },
  {
   "cell_type": "code",
   "execution_count": null,
   "metadata": {},
   "outputs": [],
   "source": []
  },
  {
   "cell_type": "code",
   "execution_count": null,
   "metadata": {},
   "outputs": [],
   "source": []
  },
  {
   "cell_type": "code",
   "execution_count": null,
   "metadata": {},
   "outputs": [],
   "source": []
  }
 ],
 "metadata": {
  "kernelspec": {
   "display_name": "Python 3",
   "language": "python",
   "name": "python3"
  },
  "language_info": {
   "codemirror_mode": {
    "name": "ipython",
    "version": 3
   },
   "file_extension": ".py",
   "mimetype": "text/x-python",
   "name": "python",
   "nbconvert_exporter": "python",
   "pygments_lexer": "ipython3",
   "version": "3.8.5"
  }
 },
 "nbformat": 4,
 "nbformat_minor": 4
}
